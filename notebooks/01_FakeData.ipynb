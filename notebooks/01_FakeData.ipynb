{
 "cells": [
  {
   "cell_type": "code",
   "execution_count": 35,
   "id": "359b6f9f-6ff6-4c27-9f4c-49316ae0c398",
   "metadata": {},
   "outputs": [],
   "source": [
    "# 📘 AlienNet - Crea un dataloader FakeData multilabel"
   ]
  },
  {
   "cell_type": "code",
   "execution_count": 36,
   "id": "a6ff394c-ee69-448e-b0b0-fd36f1d8fd81",
   "metadata": {},
   "outputs": [
    {
     "name": "stdout",
     "output_type": "stream",
     "text": [
      "🚀 Inizio addestramento...\n",
      "Utilizzo il dispositivo: cpu\n",
      "Epoch [1/10], Loss: 0.7095\n",
      "Epoch [2/10], Loss: 0.6642\n",
      "Epoch [3/10], Loss: 0.6580\n",
      "Epoch [4/10], Loss: 0.7117\n",
      "Epoch [5/10], Loss: 0.6921\n",
      "Epoch [6/10], Loss: 0.6992\n",
      "Epoch [7/10], Loss: 0.7014\n",
      "Epoch [8/10], Loss: 0.6768\n",
      "Epoch [9/10], Loss: 0.6840\n",
      "Epoch [10/10], Loss: 0.7229\n",
      "✅ Addestramento completato e modello salvato.\n"
     ]
    }
   ],
   "source": [
    "!PYTHONPATH=.. python ../main.py --mode train"
   ]
  },
  {
   "cell_type": "code",
   "execution_count": 38,
   "id": "18dd1910-891a-4d03-a769-f45f53b33ba5",
   "metadata": {},
   "outputs": [
    {
     "name": "stdout",
     "output_type": "stream",
     "text": [
      "Traceback (most recent call last):\n",
      "  File \"/home/jovyan/work/notebooks/../main.py\", line 20, in <module>\n",
      "    run_evaluation()\n",
      "  File \"/home/jovyan/work/notebooks/../main.py\", line 8, in run_evaluation\n",
      "    from evaluate import evaluate_model\n",
      "ModuleNotFoundError: No module named 'evaluate'\n"
     ]
    }
   ],
   "source": [
    "!PYTHONPATH=.. python ../main.py --mode eval"
   ]
  },
  {
   "cell_type": "code",
   "execution_count": null,
   "id": "426f7f0c-be67-42dd-9ae1-00a23adc5151",
   "metadata": {},
   "outputs": [],
   "source": []
  }
 ],
 "metadata": {
  "kernelspec": {
   "display_name": "Python 3 (ipykernel)",
   "language": "python",
   "name": "python3"
  },
  "language_info": {
   "codemirror_mode": {
    "name": "ipython",
    "version": 3
   },
   "file_extension": ".py",
   "mimetype": "text/x-python",
   "name": "python",
   "nbconvert_exporter": "python",
   "pygments_lexer": "ipython3",
   "version": "3.11.6"
  }
 },
 "nbformat": 4,
 "nbformat_minor": 5
}
