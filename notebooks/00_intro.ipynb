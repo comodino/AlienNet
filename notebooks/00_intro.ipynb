{
 "cells": [
  {
   "cell_type": "markdown",
   "id": "f1e96c02",
   "metadata": {},
   "source": [
    "# 📘 AlienNet - Notebook introduttivo"
   ]
  },
  {
   "cell_type": "markdown",
   "id": "8390fea5",
   "metadata": {},
   "source": [
    "Questo notebook ha lo scopo di verificare che l'ambiente AlienNet sia correttamente configurato. Controlliamo: versione di PyTorch, presenza di GPU, esecuzione dello script `check_env.py` e visualizzazione di immagini fittizie."
   ]
  },
  {
   "cell_type": "markdown",
   "id": "f8ed9238",
   "metadata": {},
   "source": [
    "## ⚙️ Esecuzione diagnostica"
   ]
  },
  {
   "cell_type": "code",
   "execution_count": 5,
   "id": "e0c5dafc",
   "metadata": {},
   "outputs": [
    {
     "name": "stdout",
     "output_type": "stream",
     "text": [
      "\n",
      "A module that was compiled using NumPy 1.x cannot be run in\n",
      "NumPy 2.2.6 as it may crash. To support both 1.x and 2.x\n",
      "versions of NumPy, modules must be compiled with NumPy 2.0.\n",
      "Some module may need to rebuild instead e.g. with 'pybind11>=2.12'.\n",
      "\n",
      "If you are a user of the module, the easiest solution will be to\n",
      "downgrade to 'numpy<2' or try to upgrade the affected module.\n",
      "We expect that some modules will need time to support NumPy 2.\n",
      "\n",
      "Traceback (most recent call last):  File \"/workspace/notebooks/../training/check_env.py\", line 1, in <module>\n",
      "    import torch\n",
      "  File \"/opt/conda/lib/python3.10/site-packages/torch/__init__.py\", line 1477, in <module>\n",
      "    from .functional import *  # noqa: F403\n",
      "  File \"/opt/conda/lib/python3.10/site-packages/torch/functional.py\", line 9, in <module>\n",
      "    import torch.nn.functional as F\n",
      "  File \"/opt/conda/lib/python3.10/site-packages/torch/nn/__init__.py\", line 1, in <module>\n",
      "    from .modules import *  # noqa: F403\n",
      "  File \"/opt/conda/lib/python3.10/site-packages/torch/nn/modules/__init__.py\", line 35, in <module>\n",
      "    from .transformer import TransformerEncoder, TransformerDecoder, \\\n",
      "  File \"/opt/conda/lib/python3.10/site-packages/torch/nn/modules/transformer.py\", line 20, in <module>\n",
      "    device: torch.device = torch.device(torch._C._get_default_device()),  # torch.device('cpu'),\n",
      "/opt/conda/lib/python3.10/site-packages/torch/nn/modules/transformer.py:20: UserWarning: Failed to initialize NumPy: _ARRAY_API not found (Triggered internally at /opt/conda/conda-bld/pytorch_1711403380909/work/torch/csrc/utils/tensor_numpy.cpp:84.)\n",
      "  device: torch.device = torch.device(torch._C._get_default_device()),  # torch.device('cpu'),\n",
      "🚀 AlienNet - Environment Check\n",
      "========================================\n",
      "✅ PyTorch device available: cpu\n",
      "📁 Found folder: models\n",
      "📁 Found folder: adversarial\n",
      "📁 Found folder: training\n",
      "📁 Found folder: utils\n",
      "📁 Found folder: notebooks\n",
      "📁 Found folder: data\n",
      "📁 Found folder: experiments\n",
      "\n",
      "🧪 Test tensor: shape torch.Size([2, 3]) – values:\n",
      "tensor([[0.4597, 0.8383, 0.3550],\n",
      "        [0.7535, 0.8985, 0.1337]])\n",
      "\n",
      "✅ Environment appears ready.\n",
      "\n"
     ]
    }
   ],
   "source": [
    "!python ../training/check_env.py"
   ]
  },
  {
   "cell_type": "markdown",
   "id": "661b4ade",
   "metadata": {},
   "source": [
    "## 🔍 Verifica manuale: PyTorch e device"
   ]
  },
  {
   "cell_type": "code",
   "execution_count": null,
   "id": "a57665eb",
   "metadata": {},
   "outputs": [],
   "source": [
    "import torch\n",
    "print(f'✅ PyTorch Version: {torch.__version__}')"
   ]
  },
  {
   "cell_type": "code",
   "execution_count": 4,
   "id": "e1d721df",
   "metadata": {},
   "outputs": [
    {
     "ename": "NameError",
     "evalue": "name 'torch' is not defined",
     "output_type": "error",
     "traceback": [
      "\u001b[0;31m---------------------------------------------------------------------------\u001b[0m",
      "\u001b[0;31mNameError\u001b[0m                                 Traceback (most recent call last)",
      "Cell \u001b[0;32mIn[4], line 1\u001b[0m\n\u001b[0;32m----> 1\u001b[0m device \u001b[38;5;241m=\u001b[39m \u001b[38;5;124m'\u001b[39m\u001b[38;5;124mcuda\u001b[39m\u001b[38;5;124m'\u001b[39m \u001b[38;5;28;01mif\u001b[39;00m \u001b[43mtorch\u001b[49m\u001b[38;5;241m.\u001b[39mcuda\u001b[38;5;241m.\u001b[39mis_available() \u001b[38;5;28;01melse\u001b[39;00m \u001b[38;5;124m'\u001b[39m\u001b[38;5;124mcpu\u001b[39m\u001b[38;5;124m'\u001b[39m\n\u001b[1;32m      2\u001b[0m \u001b[38;5;28mprint\u001b[39m(\u001b[38;5;124mf\u001b[39m\u001b[38;5;124m'\u001b[39m\u001b[38;5;124m🖥️ Device available: \u001b[39m\u001b[38;5;132;01m{\u001b[39;00mdevice\u001b[38;5;132;01m}\u001b[39;00m\u001b[38;5;124m'\u001b[39m)\n",
      "\u001b[0;31mNameError\u001b[0m: name 'torch' is not defined"
     ]
    }
   ],
   "source": [
    "device = 'cuda' if torch.cuda.is_available() else 'cpu'\n",
    "print(f'🖥️ Device available: {device}')"
   ]
  },
  {
   "cell_type": "markdown",
   "id": "402fe3b0",
   "metadata": {},
   "source": [
    "## 🧪 Test di un tensore casuale"
   ]
  },
  {
   "cell_type": "code",
   "execution_count": null,
   "id": "d0443406",
   "metadata": {},
   "outputs": [],
   "source": [
    "x = torch.rand(3, 4)\n",
    "print('Tensor shape:', x.shape)\n",
    "print(x)"
   ]
  },
  {
   "cell_type": "markdown",
   "id": "795a0288",
   "metadata": {},
   "source": [
    "## 🖼️ Visualizzazione immagini sintetiche (FakeData)"
   ]
  },
  {
   "cell_type": "code",
   "execution_count": null,
   "id": "73dd8d2a",
   "metadata": {},
   "outputs": [],
   "source": [
    "from torchvision.datasets import FakeData\n",
    "from torchvision import transforms\n",
    "from torchvision.utils import make_grid\n",
    "import matplotlib.pyplot as plt\n",
    "\n",
    "# Dataset finto\n",
    "transform = transforms.Compose([\n",
    "    transforms.Resize((224, 224)),\n",
    "    transforms.ToTensor()\n",
    "])\n",
    "dataset = FakeData(size=8, image_size=(3, 224, 224), num_classes=5, transform=transform)\n",
    "images, labels = next(iter(torch.utils.data.DataLoader(dataset, batch_size=8)))\n",
    "\n",
    "# Visualizza\n",
    "grid = make_grid(images, nrow=4)\n",
    "plt.figure(figsize=(10,5))\n",
    "plt.imshow(grid.permute(1, 2, 0))\n",
    "plt.title('Esempio immagini sintetiche')\n",
    "plt.axis('off')\n",
    "plt.show()"
   ]
  },
  {
   "cell_type": "markdown",
   "id": "6eca46dd",
   "metadata": {},
   "source": [
    "## ✅ Fine del check\n",
    "L’ambiente è pronto per iniziare!"
   ]
  }
 ],
 "metadata": {
  "kernelspec": {
   "display_name": "Python 3 (ipykernel)",
   "language": "python",
   "name": "python3"
  },
  "language_info": {
   "codemirror_mode": {
    "name": "ipython",
    "version": 3
   },
   "file_extension": ".py",
   "mimetype": "text/x-python",
   "name": "python",
   "nbconvert_exporter": "python",
   "pygments_lexer": "ipython3",
   "version": "3.10.14"
  }
 },
 "nbformat": 4,
 "nbformat_minor": 5
}
